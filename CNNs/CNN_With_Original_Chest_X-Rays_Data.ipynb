{
 "cells": [
  {
   "cell_type": "code",
   "execution_count": 1,
   "metadata": {},
   "outputs": [],
   "source": [
    "import tensorflow as tf"
   ]
  },
  {
   "cell_type": "code",
   "execution_count": 2,
   "metadata": {},
   "outputs": [
    {
     "data": {
      "text/plain": [
       "'2.0.0'"
      ]
     },
     "execution_count": 2,
     "metadata": {},
     "output_type": "execute_result"
    }
   ],
   "source": [
    "tf.__version__"
   ]
  },
  {
   "cell_type": "code",
   "execution_count": 3,
   "metadata": {},
   "outputs": [],
   "source": [
    "import cv2\n",
    "import numpy as np\n",
    "import os\n",
    "from random import shuffle\n",
    "from tensorflow.keras.layers import Dense, Dropout, Conv2D, MaxPooling2D, Flatten\n",
    "from tensorflow.keras.utils import to_categorical\n",
    "from tensorflow.keras import Sequential\n",
    "from tensorflow.keras.optimizers import SGD\n",
    "import matplotlib.pyplot as plt\n",
    "%matplotlib inline"
   ]
  },
  {
   "cell_type": "code",
   "execution_count": 4,
   "metadata": {},
   "outputs": [],
   "source": [
    "TRAIN_DIR = 'D:/AA Desktop/Stuff/Research/College/Data Augmentation/11Data/1. Images for Training/Combined_128X128/Original Data/Original_Data'\n",
    "IMG_SIZE = 128"
   ]
  },
  {
   "cell_type": "code",
   "execution_count": 5,
   "metadata": {},
   "outputs": [],
   "source": [
    "def label_img(img):\n",
    "    word_label = img.split(' ')[0]\n",
    "    if word_label == 'NORMAL': return [1.0, 0.0]\n",
    "    elif word_label == 'Viral': return [0.0, 1.0] "
   ]
  },
  {
   "cell_type": "code",
   "execution_count": 6,
   "metadata": {},
   "outputs": [],
   "source": [
    "def create_train_data():\n",
    "    training_data = []\n",
    "    for img in os.listdir(TRAIN_DIR):\n",
    "                label = label_img(img)\n",
    "                path = os.path.join(TRAIN_DIR, img)\n",
    "                img = cv2.resize(cv2.imread(path, cv2.IMREAD_GRAYSCALE), (IMG_SIZE, IMG_SIZE))\n",
    "                training_data.append([np.array(img), np.array(label)])\n",
    "    shuffle(training_data)\n",
    "    np.save('D:/AA Desktop/Stuff/Research/College/Data Augmentation/11Data/1. Images for Training/Combined_128X128/Original Data/train_data.npy', training_data)\n",
    "    return training_data"
   ]
  },
  {
   "cell_type": "code",
   "execution_count": 7,
   "metadata": {},
   "outputs": [],
   "source": [
    "#train_data = create_train_data()\n",
    "#if already exists\n",
    "train_data = np.load('D:/AA Desktop/Stuff/Research/College/Data Augmentation/11Data/1. Images for Training/Combined_128X128/Original Data/train_data.npy')"
   ]
  },
  {
   "cell_type": "code",
   "execution_count": 8,
   "metadata": {},
   "outputs": [],
   "source": [
    "model = Sequential()"
   ]
  },
  {
   "cell_type": "code",
   "execution_count": 9,
   "metadata": {},
   "outputs": [],
   "source": [
    "#if exists\n",
    "#model.load('D:/AA Desktop/Stuff/Research/College/Data Augmentation/11Data/1. Images for Training/Combined_128X128/Original Data/CNN_With_Original_X-Ray_Data.h5')"
   ]
  },
  {
   "cell_type": "code",
   "execution_count": 10,
   "metadata": {},
   "outputs": [],
   "source": [
    "model.add(Conv2D(32, kernel_size=(3,3), padding='same', activation='relu', input_shape=(IMG_SIZE, IMG_SIZE, 1)))\n",
    "model.add(MaxPooling2D((2, 2), padding='same'))\n",
    "model.add(Conv2D(64, kernel_size=(3,3), padding='same', activation='relu'))\n",
    "model.add(MaxPooling2D((2, 2), padding='same'))\n",
    "model.add(Conv2D(128, kernel_size=(3,3), padding='same', activation='relu'))\n",
    "model.add(MaxPooling2D((2, 2), padding='same'))\n",
    "model.add(Conv2D(256, kernel_size=(3,3), padding='same', activation='relu'))\n",
    "model.add(MaxPooling2D((2, 2), padding='same'))\n",
    "model.add(Conv2D(512, kernel_size=(3,3), padding='same', activation='relu'))\n",
    "model.add(MaxPooling2D((2, 2), padding='same'))\n",
    "model.add(Flatten())\n",
    "model.add(Dropout(0.25))\n",
    "model.add(Dense(512, activation='relu'))\n",
    "model.add(Dropout(0.25))\n",
    "model.add(Dense(64, activation='relu'))\n",
    "model.add(Dense(2, activation='softmax'))"
   ]
  },
  {
   "cell_type": "code",
   "execution_count": 11,
   "metadata": {},
   "outputs": [],
   "source": [
    "X = np.array([i[0] for i in train_data]).reshape(-1, IMG_SIZE, IMG_SIZE, 1)\n",
    "Y = np.array([i[1] for i in train_data])"
   ]
  },
  {
   "cell_type": "code",
   "execution_count": 12,
   "metadata": {},
   "outputs": [],
   "source": [
    "model.compile(SGD(learning_rate = 0.001, momentum=0.9), loss='categorical_crossentropy', metrics=['accuracy'])"
   ]
  },
  {
   "cell_type": "code",
   "execution_count": 13,
   "metadata": {},
   "outputs": [
    {
     "name": "stdout",
     "output_type": "stream",
     "text": [
      "Train on 2653 samples, validate on 27 samples\n",
      "Epoch 1/10\n",
      "2653/2653 [==============================] - 14s 5ms/sample - loss: 1.4100 - accuracy: 0.5450 - val_loss: 0.6924 - val_accuracy: 0.4074\n",
      "Epoch 2/10\n",
      "2653/2653 [==============================] - 3s 1ms/sample - loss: 0.6369 - accuracy: 0.6438 - val_loss: 0.5826 - val_accuracy: 0.8889\n",
      "Epoch 3/10\n",
      "2653/2653 [==============================] - 3s 1ms/sample - loss: 0.4773 - accuracy: 0.8134 - val_loss: 0.5044 - val_accuracy: 0.8519\n",
      "Epoch 4/10\n",
      "2653/2653 [==============================] - 3s 1ms/sample - loss: 0.3591 - accuracy: 0.8628 - val_loss: 0.5131 - val_accuracy: 0.8519\n",
      "Epoch 5/10\n",
      "2653/2653 [==============================] - 3s 1ms/sample - loss: 0.3118 - accuracy: 0.8847 - val_loss: 0.4453 - val_accuracy: 0.8519\n",
      "Epoch 6/10\n",
      "2653/2653 [==============================] - 3s 1ms/sample - loss: 0.2577 - accuracy: 0.9077 - val_loss: 0.4374 - val_accuracy: 0.8519\n",
      "Epoch 7/10\n",
      "2653/2653 [==============================] - 3s 1ms/sample - loss: 0.2406 - accuracy: 0.9024 - val_loss: 0.4254 - val_accuracy: 0.8519\n",
      "Epoch 8/10\n",
      "2653/2653 [==============================] - 3s 1ms/sample - loss: 0.1980 - accuracy: 0.9220 - val_loss: 0.3593 - val_accuracy: 0.8889\n",
      "Epoch 9/10\n",
      "2653/2653 [==============================] - 3s 1ms/sample - loss: 0.1802 - accuracy: 0.9303 - val_loss: 0.3449 - val_accuracy: 0.8148\n",
      "Epoch 10/10\n",
      "2653/2653 [==============================] - 3s 1ms/sample - loss: 0.1595 - accuracy: 0.9348 - val_loss: 0.3016 - val_accuracy: 0.9259\n"
     ]
    }
   ],
   "source": [
    "history = model.fit(X, Y, validation_split = 0.01, epochs = 10, batch_size = 64, verbose = 1, shuffle = 1)"
   ]
  },
  {
   "cell_type": "code",
   "execution_count": 17,
   "metadata": {},
   "outputs": [
    {
     "data": {
      "image/png": "[encoded data removed]",
      "text/plain": [
       "<Figure size 432x288 with 1 Axes>"
      ]
     },
     "metadata": {
      "needs_background": "light"
     },
     "output_type": "display_data"
    }
   ],
   "source": [
    "loss_train = history.history['loss']\n",
    "loss_val = history.history['val_loss']\n",
    "epochs = range(0,10)\n",
    "plt.plot(epochs, loss_train, 'g', label='Training loss')\n",
    "plt.plot(epochs, loss_val, 'b', label='validation loss')\n",
    "plt.title('Training and Validation loss')\n",
    "plt.xlabel('Epochs')\n",
    "plt.ylabel('Loss')\n",
    "plt.legend()\n",
    "plt.show()"
   ]
  },
  {
   "cell_type": "code",
   "execution_count": 19,
   "metadata": {},
   "outputs": [
    {
     "data": {
      "image/png": "[encoded data removed]",
      "text/plain": [
       "<Figure size 432x288 with 1 Axes>"
      ]
     },
     "metadata": {
      "needs_background": "light"
     },
     "output_type": "display_data"
    }
   ],
   "source": [
    "loss_train = history.history['accuracy']\n",
    "loss_val = history.history['val_accuracy']\n",
    "epochs = range(0,10)\n",
    "plt.plot(epochs, loss_train, 'g', label='Training accuracy')\n",
    "plt.plot(epochs, loss_val, 'b', label='validation accuracy')\n",
    "plt.title('Training and Validation accuracy')\n",
    "plt.xlabel('Epochs')\n",
    "plt.ylabel('Accuracy')\n",
    "plt.legend()\n",
    "plt.show()"
   ]
  },
  {
   "cell_type": "code",
   "execution_count": 20,
   "metadata": {},
   "outputs": [],
   "source": [
    "model.save('D:/AA Desktop/Stuff/Research/College/Data Augmentation/11Data/1. Images for Training/Combined_128X128/Original Data/CNN_With_Original_X-Ray_Data.h5')"
   ]
  }
 ],
 "metadata": {
  "kernelspec": {
   "display_name": "Python [conda env:gpuenv]",
   "language": "python",
   "name": "conda-env-gpuenv-py"
  },
  "language_info": {
   "codemirror_mode": {
    "name": "ipython",
    "version": 3
   },
   "file_extension": ".py",
   "mimetype": "text/x-python",
   "name": "python",
   "nbconvert_exporter": "python",
   "pygments_lexer": "ipython3",
   "version": "3.6.12"
  }
 },
 "nbformat": 4,
 "nbformat_minor": 4
}
