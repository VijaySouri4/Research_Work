{
 "cells": [
  {
   "cell_type": "code",
   "execution_count": 1,
   "metadata": {},
   "outputs": [],
   "source": [
    "import tensorflow as tf"
   ]
  },
  {
   "cell_type": "code",
   "execution_count": 2,
   "metadata": {},
   "outputs": [
    {
     "data": {
      "text/plain": [
       "'2.0.0'"
      ]
     },
     "execution_count": 2,
     "metadata": {},
     "output_type": "execute_result"
    }
   ],
   "source": [
    "tf.__version__"
   ]
  },
  {
   "cell_type": "code",
   "execution_count": 3,
   "metadata": {},
   "outputs": [],
   "source": [
    "import cv2\n",
    "import numpy as np\n",
    "import os\n",
    "from random import shuffle\n",
    "from tensorflow.keras.layers import Dense, Dropout, Conv2D, MaxPooling2D, Flatten\n",
    "from tensorflow.keras.utils import to_categorical\n",
    "from tensorflow.keras import Sequential\n",
    "from tensorflow.keras.optimizers import SGD\n",
    "import matplotlib.pyplot as plt\n",
    "%matplotlib inline"
   ]
  },
  {
   "cell_type": "code",
   "execution_count": 4,
   "metadata": {},
   "outputs": [],
   "source": [
    "TRAIN_DIR = 'D:/AA Desktop/Stuff/Research/College/Data Augmentation/11Data/1. Images for Training/Combined_128X128/Mixed_Images_With_GANs/Combined_Original_And_GAN_Generated'\n",
    "IMG_SIZE = 128"
   ]
  },
  {
   "cell_type": "code",
   "execution_count": 5,
   "metadata": {},
   "outputs": [],
   "source": [
    "def label_img(img):\n",
    "    word_label = img.split(' ')[0]\n",
    "    if word_label == 'NORMAL': return [1.0, 0.0]\n",
    "    elif word_label == 'Viral': return [0.0, 1.0] "
   ]
  },
  {
   "cell_type": "code",
   "execution_count": 6,
   "metadata": {},
   "outputs": [],
   "source": [
    "def create_train_data():\n",
    "    training_data = []\n",
    "    for img in os.listdir(TRAIN_DIR):\n",
    "                label = label_img(img)\n",
    "                path = os.path.join(TRAIN_DIR, img)\n",
    "                img = cv2.resize(cv2.imread(path, cv2.IMREAD_GRAYSCALE), (IMG_SIZE, IMG_SIZE))\n",
    "                training_data.append([np.array(img), np.array(label)])\n",
    "    shuffle(training_data)\n",
    "    np.save('D:/AA Desktop/Stuff/Research/College/Data Augmentation/11Data/1. Images for Training/Combined_128X128/Mixed_Images_With_GANs/train_data_GAN.npy', training_data)\n",
    "    return training_data"
   ]
  },
  {
   "cell_type": "code",
   "execution_count": 7,
   "metadata": {},
   "outputs": [
    {
     "name": "stderr",
     "output_type": "stream",
     "text": [
      "C:\\Users\\Public\\anaconda3\\envs\\gpuenv\\lib\\site-packages\\numpy\\core\\_asarray.py:136: VisibleDeprecationWarning: Creating an ndarray from ragged nested sequences (which is a list-or-tuple of lists-or-tuples-or ndarrays with different lengths or shapes) is deprecated. If you meant to do this, you must specify 'dtype=object' when creating the ndarray\n",
      "  return array(a, dtype, copy=False, order=order, subok=True)\n"
     ]
    }
   ],
   "source": [
    "train_data = create_train_data()\n",
    "#if already exists\n",
    "#train_data = np.load('D:/AA Desktop/Stuff/Research/College/Data Augmentation/11Data/1. Images for Training/Combined_128X128/Mixed_Images_With_GANs/train_data_GAN.npy')"
   ]
  },
  {
   "cell_type": "code",
   "execution_count": 8,
   "metadata": {},
   "outputs": [],
   "source": [
    "model = Sequential()"
   ]
  },
  {
   "cell_type": "code",
   "execution_count": 9,
   "metadata": {},
   "outputs": [],
   "source": [
    "#if exists\n",
    "#model.load('D:/AA Desktop/Stuff/Research/College/Data Augmentation/11Data/1. Images for Training/Combined_128X128/Original Data/CNN_With_GAN_Generated_X-Ray_Data.h5')"
   ]
  },
  {
   "cell_type": "code",
   "execution_count": 10,
   "metadata": {},
   "outputs": [],
   "source": [
    "model.add(Conv2D(32, kernel_size=(3,3), padding='same', activation='relu', input_shape=(IMG_SIZE, IMG_SIZE, 1)))\n",
    "model.add(MaxPooling2D((2, 2), padding='same'))\n",
    "model.add(Conv2D(64, kernel_size=(3,3), padding='same', activation='relu'))\n",
    "model.add(MaxPooling2D((2, 2), padding='same'))\n",
    "model.add(Conv2D(128, kernel_size=(3,3), padding='same', activation='relu'))\n",
    "model.add(MaxPooling2D((2, 2), padding='same'))\n",
    "model.add(Conv2D(256, kernel_size=(3,3), padding='same', activation='relu'))\n",
    "model.add(MaxPooling2D((2, 2), padding='same'))\n",
    "model.add(Conv2D(512, kernel_size=(3,3), padding='same', activation='relu'))\n",
    "model.add(MaxPooling2D((2, 2), padding='same'))\n",
    "model.add(Flatten())\n",
    "model.add(Dropout(0.25))\n",
    "model.add(Dense(512, activation='relu'))\n",
    "model.add(Dropout(0.25))\n",
    "model.add(Dense(64, activation='relu'))\n",
    "model.add(Dense(2, activation='softmax'))"
   ]
  },
  {
   "cell_type": "code",
   "execution_count": 11,
   "metadata": {},
   "outputs": [],
   "source": [
    "X = np.array([i[0] for i in train_data]).reshape(-1, IMG_SIZE, IMG_SIZE, 1)\n",
    "Y = np.array([i[1] for i in train_data])"
   ]
  },
  {
   "cell_type": "code",
   "execution_count": 13,
   "metadata": {},
   "outputs": [],
   "source": [
    "model.compile(SGD(learning_rate = 0.001, momentum=0.9), loss='categorical_crossentropy', metrics=['accuracy'])"
   ]
  },
  {
   "cell_type": "code",
   "execution_count": 14,
   "metadata": {},
   "outputs": [
    {
     "name": "stdout",
     "output_type": "stream",
     "text": [
      "Train on 4633 samples, validate on 47 samples\n",
      "Epoch 1/10\n",
      "4633/4633 [==============================] - 16s 3ms/sample - loss: 0.9723 - accuracy: 0.5847 - val_loss: 0.5565 - val_accuracy: 0.8936\n",
      "Epoch 2/10\n",
      "4633/4633 [==============================] - 5s 1ms/sample - loss: 0.4290 - accuracy: 0.8090 - val_loss: 0.2581 - val_accuracy: 0.8936\n",
      "Epoch 3/10\n",
      "4633/4633 [==============================] - 5s 1ms/sample - loss: 0.2259 - accuracy: 0.9115 - val_loss: 0.1934 - val_accuracy: 0.9149\n",
      "Epoch 4/10\n",
      "4633/4633 [==============================] - 5s 1ms/sample - loss: 0.1570 - accuracy: 0.9413 - val_loss: 0.0934 - val_accuracy: 0.9362\n",
      "Epoch 5/10\n",
      "4633/4633 [==============================] - 5s 1ms/sample - loss: 0.1125 - accuracy: 0.9601 - val_loss: 0.0736 - val_accuracy: 0.9574\n",
      "Epoch 6/10\n",
      "4633/4633 [==============================] - 5s 1ms/sample - loss: 0.0948 - accuracy: 0.9663 - val_loss: 0.0552 - val_accuracy: 0.9787\n",
      "Epoch 7/10\n",
      "4633/4633 [==============================] - 5s 1ms/sample - loss: 0.0865 - accuracy: 0.9702 - val_loss: 0.1204 - val_accuracy: 0.9362\n",
      "Epoch 8/10\n",
      "4633/4633 [==============================] - 5s 1ms/sample - loss: 0.0833 - accuracy: 0.9709 - val_loss: 0.0461 - val_accuracy: 0.9787\n",
      "Epoch 9/10\n",
      "4633/4633 [==============================] - 5s 1ms/sample - loss: 0.0656 - accuracy: 0.9758 - val_loss: 0.0438 - val_accuracy: 1.0000\n",
      "Epoch 10/10\n",
      "4633/4633 [==============================] - 5s 1ms/sample - loss: 0.0670 - accuracy: 0.9771 - val_loss: 0.0281 - val_accuracy: 1.0000\n"
     ]
    }
   ],
   "source": [
    "history = model.fit(X, Y, validation_split = 0.01, epochs = 10, batch_size = 64, verbose = 1, shuffle = 1)"
   ]
  },
  {
   "cell_type": "code",
   "execution_count": 15,
   "metadata": {},
   "outputs": [
    {
     "data": {
      "image/png": "[encoded data removed]",
      "text/plain": [
       "<Figure size 432x288 with 1 Axes>"
      ]
     },
     "metadata": {
      "needs_background": "light"
     },
     "output_type": "display_data"
    }
   ],
   "source": [
    "loss_train = history.history['loss']\n",
    "loss_val = history.history['val_loss']\n",
    "epochs = range(0,10)\n",
    "plt.plot(epochs, loss_train, 'g', label='Training loss')\n",
    "plt.plot(epochs, loss_val, 'b', label='validation loss')\n",
    "plt.title('Training and Validation loss')\n",
    "plt.xlabel('Epochs')\n",
    "plt.ylabel('Loss')\n",
    "plt.legend()\n",
    "plt.show()"
   ]
  },
  {
   "cell_type": "code",
   "execution_count": 16,
   "metadata": {},
   "outputs": [
    {
     "data": {
      "image/png": "[encoded data removed]",
      "text/plain": [
       "<Figure size 432x288 with 1 Axes>"
      ]
     },
     "metadata": {
      "needs_background": "light"
     },
     "output_type": "display_data"
    }
   ],
   "source": [
    "loss_train = history.history['accuracy']\n",
    "loss_val = history.history['val_accuracy']\n",
    "epochs = range(0,10)\n",
    "plt.plot(epochs, loss_train, 'g', label='Training accuracy')\n",
    "plt.plot(epochs, loss_val, 'b', label='validation accuracy')\n",
    "plt.title('Training and Validation accuracy')\n",
    "plt.xlabel('Epochs')\n",
    "plt.ylabel('Accuracy')\n",
    "plt.legend()\n",
    "plt.show()"
   ]
  },
  {
   "cell_type": "code",
   "execution_count": 17,
   "metadata": {},
   "outputs": [],
   "source": [
    "model.save('D:/AA Desktop/Stuff/Research/College/Data Augmentation/11Data/1. Images for Training/Combined_128X128/Mixed_Images_With_GANs/CNN_With_GAN_Generated_X-Ray_Data.h5')"
   ]
  },
  {
   "cell_type": "code",
   "execution_count": null,
   "metadata": {},
   "outputs": [],
   "source": []
  }
 ],
 "metadata": {
  "kernelspec": {
   "display_name": "Python [conda env:gpuenv]",
   "language": "python",
   "name": "conda-env-gpuenv-py"
  },
  "language_info": {
   "codemirror_mode": {
    "name": "ipython",
    "version": 3
   },
   "file_extension": ".py",
   "mimetype": "text/x-python",
   "name": "python",
   "nbconvert_exporter": "python",
   "pygments_lexer": "ipython3",
   "version": "3.6.12"
  }
 },
 "nbformat": 4,
 "nbformat_minor": 4
}
